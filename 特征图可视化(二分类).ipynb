{
 "cells": [
  {
   "cell_type": "code",
   "execution_count": null,
   "id": "65f070f0",
   "metadata": {},
   "outputs": [],
   "source": [
    "import h5py\n",
    "import numpy as np\n",
    "fh5 = h5py.File('E:/data/Survival/H5map/fmap/fmap_BLCA.h5','r')\n",
    "img = fh5['map']\n",
    "img = np.array(img)\n",
    "lab = fh5['lab']\n",
    "lab = np.array(lab)"
   ]
  },
  {
   "cell_type": "code",
   "execution_count": null,
   "id": "75d3962e",
   "metadata": {},
   "outputs": [],
   "source": [
    "img3 = np.zeros((len(lab), 33, 33, 3))"
   ]
  },
  {
   "cell_type": "code",
   "execution_count": null,
   "id": "a5f01a23",
   "metadata": {},
   "outputs": [],
   "source": [
    "import time\n",
    "from tqdm import tqdm\n",
    "from tqdm._tqdm import trange"
   ]
  },
  {
   "cell_type": "code",
   "execution_count": null,
   "id": "e96d6a2e",
   "metadata": {},
   "outputs": [],
   "source": [
    "for i in tqdm(range(len(lab))):\n",
    "    time.sleep(0.01)\n",
    "    for j in range(3):\n",
    "        img3[i,:,:,j] = img[i,:,:]"
   ]
  },
  {
   "cell_type": "code",
   "execution_count": null,
   "id": "c2ffdae4",
   "metadata": {},
   "outputs": [],
   "source": [
    "img33 = np.uint8(img3)"
   ]
  },
  {
   "cell_type": "code",
   "execution_count": null,
   "id": "f473d0e1",
   "metadata": {},
   "outputs": [],
   "source": [
    "import matplotlib.pyplot as plt\n",
    "%matplotlib inline"
   ]
  },
  {
   "cell_type": "code",
   "execution_count": null,
   "id": "3cc77b83",
   "metadata": {},
   "outputs": [],
   "source": [
    "plt.imshow(img33[0])\n",
    "plt.axis('off')"
   ]
  },
  {
   "cell_type": "code",
   "execution_count": null,
   "id": "4a38f774",
   "metadata": {},
   "outputs": [],
   "source": [
    "plt.imshow(img[0],\"gray\")\n",
    "plt.axis('off')"
   ]
  },
  {
   "cell_type": "code",
   "execution_count": null,
   "id": "56207a4a",
   "metadata": {},
   "outputs": [],
   "source": [
    "std = np.mean(img,axis=0)\n",
    "std.shape"
   ]
  },
  {
   "cell_type": "code",
   "execution_count": null,
   "id": "cebd1e57",
   "metadata": {},
   "outputs": [],
   "source": [
    "plt.imshow(std,\"gray\")\n",
    "plt.axis('off')"
   ]
  },
  {
   "cell_type": "code",
   "execution_count": null,
   "id": "7e531eeb",
   "metadata": {},
   "outputs": [],
   "source": [
    "imgcf = np.zeros((2, 33, 33, 3))"
   ]
  },
  {
   "cell_type": "code",
   "execution_count": null,
   "id": "478e6ab4",
   "metadata": {},
   "outputs": [],
   "source": [
    "m=0\n",
    "for i in tqdm(range(len(lab)-1)):\n",
    "    time.sleep(0.01)\n",
    "    if lab[i]!=lab[i+1]:\n",
    "        labnode=i"
   ]
  },
  {
   "cell_type": "code",
   "execution_count": null,
   "id": "3e133c43",
   "metadata": {},
   "outputs": [],
   "source": [
    "lab[:labnode+1]"
   ]
  },
  {
   "cell_type": "code",
   "execution_count": null,
   "id": "2649c1d6",
   "metadata": {},
   "outputs": [],
   "source": [
    "lab[labnode+1:]"
   ]
  },
  {
   "cell_type": "code",
   "execution_count": null,
   "id": "e4a7411c",
   "metadata": {},
   "outputs": [],
   "source": [
    "imga = img[:labnode+1,:,:]\n",
    "imgb = img[labnode+1:,:,:]"
   ]
  },
  {
   "cell_type": "code",
   "execution_count": null,
   "id": "f3fb7cee",
   "metadata": {},
   "outputs": [],
   "source": [
    "img3a = img3[:labnode+1,:,:,:]\n",
    "img3b = img3[labnode+1:,:,:,:]"
   ]
  },
  {
   "cell_type": "code",
   "execution_count": null,
   "id": "3f925e43",
   "metadata": {},
   "outputs": [],
   "source": [
    "import scipy.stats as stats"
   ]
  },
  {
   "cell_type": "code",
   "execution_count": null,
   "id": "8463f6aa",
   "metadata": {},
   "outputs": [],
   "source": [
    "t_statistic, p_value = stats.ttest_ind(imga, imgb)"
   ]
  },
  {
   "cell_type": "code",
   "execution_count": null,
   "id": "f7867b09",
   "metadata": {},
   "outputs": [],
   "source": [
    "std = np.mean(img,axis=0)\n",
    "std.max()"
   ]
  },
  {
   "cell_type": "code",
   "execution_count": null,
   "id": "ce8cf39d",
   "metadata": {},
   "outputs": [],
   "source": [
    "stda = np.mean(imga,axis=0)\n",
    "stda.max()"
   ]
  },
  {
   "cell_type": "code",
   "execution_count": null,
   "id": "e50c10ca",
   "metadata": {},
   "outputs": [],
   "source": [
    "stdb = np.mean(imgb,axis=0)\n",
    "stdb.max()"
   ]
  },
  {
   "cell_type": "code",
   "execution_count": null,
   "id": "42dd2393",
   "metadata": {},
   "outputs": [],
   "source": [
    "std3a = np.mean(img3a,axis=0)\n",
    "std3a.max()"
   ]
  },
  {
   "cell_type": "code",
   "execution_count": null,
   "id": "367033e3",
   "metadata": {},
   "outputs": [],
   "source": [
    "std3b = np.mean(img3b,axis=0)\n",
    "std3b.max()"
   ]
  },
  {
   "cell_type": "code",
   "execution_count": null,
   "id": "6efac25d",
   "metadata": {},
   "outputs": [],
   "source": [
    "plt.imshow(stdb/stdb.max(),'gray')\n",
    "plt.axis('off')"
   ]
  },
  {
   "cell_type": "code",
   "execution_count": null,
   "id": "d88f2139",
   "metadata": {},
   "outputs": [],
   "source": [
    "for i in tqdm(range(33)):\n",
    "    time.sleep(0.01)\n",
    "    for j in range(33):\n",
    "        if p_value[i,j]<=0.01:\n",
    "            if stda[i,j]>std[i,j]:\n",
    "                std3a[i,j,0:2]=0\n",
    "            if stda[i,j]<std[i,j]:\n",
    "                std3a[i,j,1:3]=0\n",
    "            if stdb[i,j]>std[i,j]:\n",
    "                std3b[i,j,0:2]=0\n",
    "            if stdb[i,j]<std[i,j]:\n",
    "                std3b[i,j,1:3]=0"
   ]
  },
  {
   "cell_type": "code",
   "execution_count": null,
   "id": "7ec96c38",
   "metadata": {},
   "outputs": [],
   "source": [
    "std3au = np.uint8(std3a)\n",
    "std3bu = np.uint8(std3b)"
   ]
  },
  {
   "cell_type": "code",
   "execution_count": null,
   "id": "3e09d283",
   "metadata": {},
   "outputs": [],
   "source": [
    "img3al = np.zeros((len(imga), 33, 33, 3))\n",
    "img3al.shape"
   ]
  },
  {
   "cell_type": "code",
   "execution_count": null,
   "id": "29db4be7",
   "metadata": {},
   "outputs": [],
   "source": [
    "for i in tqdm(range(len(imga))):\n",
    "\n",
    "    img_1 = imga[i]\n",
    "    img_2 = img3a[i]\n",
    "    #print(img1.shape)\n",
    "    #std = np.mean(img_1,axis=0)\n",
    "    #stdc = np.mean(img_2,axis=0)\n",
    "    t_statistic, p_value = stats.ttest_ind(img_1, imgb)\n",
    "    for ii in range(33):\n",
    "        for jj in range(33):\n",
    "            if p_value[ii,jj]<=0.01:\n",
    "                if img_1[ii,jj]>std[ii,jj]:\n",
    "                    img_2[ii,jj,0:2]=0\n",
    "                if img_1[ii,jj]<std[ii,jj]:\n",
    "                    img_2[ii,jj,1:3]=0\n",
    "    img3al[i] =  img_2"
   ]
  },
  {
   "cell_type": "code",
   "execution_count": null,
   "id": "e9aab7bd",
   "metadata": {},
   "outputs": [],
   "source": [
    "img3al = np.uint8(img3al)"
   ]
  },
  {
   "cell_type": "code",
   "execution_count": null,
   "id": "56ff8265",
   "metadata": {},
   "outputs": [],
   "source": [
    "plt.imshow(img3al[0])\n",
    "plt.axis('off')"
   ]
  },
  {
   "cell_type": "code",
   "execution_count": null,
   "id": "4f0ee093",
   "metadata": {},
   "outputs": [],
   "source": [
    "img3bl = np.zeros((len(imgb), 33, 33, 3))\n",
    "img3bl.shape"
   ]
  },
  {
   "cell_type": "code",
   "execution_count": null,
   "id": "86400316",
   "metadata": {},
   "outputs": [],
   "source": [
    "for i in tqdm(range(len(imgb))):\n",
    "\n",
    "    img_1 = imgb[i]\n",
    "    img_2 = img3b[i]\n",
    "    #print(img1.shape)\n",
    "    #std = np.mean(img_1,axis=0)\n",
    "    #stdc = np.mean(img_2,axis=0)\n",
    "    t_statistic, p_value = stats.ttest_ind(img_1, imga)\n",
    "    for ii in range(33):\n",
    "        for jj in range(33):\n",
    "            if p_value[ii,jj]<=0.01:\n",
    "                if img_1[ii,jj]>std[ii,jj]:\n",
    "                    img_2[ii,jj,0:2]=0\n",
    "                if img_1[ii,jj]<std[ii,jj]:\n",
    "                    img_2[ii,jj,1:3]=0\n",
    "    img3bl[i] =  img_2"
   ]
  },
  {
   "cell_type": "code",
   "execution_count": null,
   "id": "97ee512e",
   "metadata": {},
   "outputs": [],
   "source": [
    "img3bl = np.uint8(img3bl)"
   ]
  },
  {
   "cell_type": "code",
   "execution_count": null,
   "id": "90982812",
   "metadata": {},
   "outputs": [],
   "source": [
    "plt.imshow(img3bl[0])\n",
    "plt.axis('off')"
   ]
  },
  {
   "cell_type": "code",
   "execution_count": null,
   "id": "069a04c0",
   "metadata": {},
   "outputs": [],
   "source": [
    "imgab = np.concatenate((img3al,img3bl),axis=0)\n",
    "imgab.shape"
   ]
  },
  {
   "cell_type": "code",
   "execution_count": null,
   "id": "7c2f3d83",
   "metadata": {},
   "outputs": [],
   "source": [
    "import os\n",
    "main_path = os.path.join(os.getcwd(),r'E:/data/Survival/H5map/fmap/')\n",
    "file_names = os.listdir(main_path)"
   ]
  },
  {
   "cell_type": "code",
   "execution_count": null,
   "id": "6cadaa25",
   "metadata": {},
   "outputs": [],
   "source": [
    "ll = ['BLCA', 'BRCA', 'HNSC', 'KIRC', 'LIHC', 'LUAD', 'LUSC', 'OV', 'SKCM', 'STAD']"
   ]
  },
  {
   "cell_type": "code",
   "execution_count": null,
   "id": "e2fd8789",
   "metadata": {},
   "outputs": [],
   "source": [
    "from tqdm import tqdm\n",
    "from tqdm._tqdm import trange\n",
    "import time"
   ]
  },
  {
   "cell_type": "code",
   "execution_count": null,
   "id": "5a3b93ff",
   "metadata": {},
   "outputs": [],
   "source": [
    "imgsca = np.zeros((10, 33, 33, 3))\n",
    "imgscb = np.zeros((10, 33, 33, 3))\n",
    "imgscau = np.zeros((10, 33, 33, 3))\n",
    "imgscbu = np.zeros((10, 33, 33, 3))"
   ]
  },
  {
   "cell_type": "code",
   "execution_count": null,
   "id": "62afca2c",
   "metadata": {},
   "outputs": [],
   "source": [
    "m=0\n",
    "labnode=0\n",
    "for file_name in tqdm(file_names):\n",
    "    \n",
    "    time.sleep(0.01)\n",
    "    file_path = os.path.join(main_path,file_name)\n",
    "    fh5 = h5py.File(file_path,'r')\n",
    "    img = fh5['map']\n",
    "    img = np.array(img)\n",
    "    #print(img.shape)\n",
    "    lab = fh5['lab']\n",
    "    lab = np.array(lab)\n",
    "    #print(lab.shape)\n",
    "    for i in range(len(lab)-1):\n",
    "        if lab[i]!=lab[i+1]:\n",
    "            labnode=i\n",
    "            break\n",
    "    #print(labnode)\n",
    "    img3 = np.zeros((len(lab), 33, 33, 3))\n",
    "    for i in range(len(lab)):\n",
    "        for j in range(3):\n",
    "            img3[i,:,:,j] = img[i,:,:]\n",
    "    imga = img[:labnode+1,:,:]\n",
    "    imgb = img[labnode+1:,:,:]\n",
    "    img3a = img3[:labnode+1,:,:,:]\n",
    "    img3b = img3[labnode+1:,:,:,:]\n",
    "    #print(img3.shape)\n",
    "    t_statistic, p_value = stats.ttest_ind(imga, imgb)\n",
    "    std = np.mean(img,axis=0)\n",
    "    stda = np.mean(imga,axis=0)\n",
    "    stdb = np.mean(imgb,axis=0)\n",
    "    std3a = np.mean(img3a,axis=0)\n",
    "    std3b = np.mean(img3b,axis=0)\n",
    "    for i in range(33):\n",
    "        for j in range(33):\n",
    "            if p_value[i,j]<=0.01:\n",
    "                if stda[i,j]>std[i,j]:\n",
    "                    std3a[i,j,0:2]=0\n",
    "                if stda[i,j]<std[i,j]:\n",
    "                    std3a[i,j,1:3]=0\n",
    "                if stdb[i,j]>std[i,j]:\n",
    "                    std3b[i,j,0:2]=0\n",
    "                if stdb[i,j]<std[i,j]:\n",
    "                    std3b[i,j,1:3]=0\n",
    "    std3au = np.uint8(std3a)\n",
    "    std3bu = np.uint8(std3b)\n",
    "    imgsca[m] = std3a\n",
    "    imgscb[m] = std3b\n",
    "    imgscau[m] = std3au\n",
    "    imgscbu[m] = std3bu\n",
    "    m=m+1"
   ]
  },
  {
   "cell_type": "code",
   "execution_count": null,
   "id": "f7e0c486",
   "metadata": {},
   "outputs": [],
   "source": [
    "plt.figure(figsize=(14, 8))\n",
    "plt.subplot(1,2,1),plt.imshow(imgsca[0]/255), plt.xticks([]), plt.yticks([])\n",
    "plt.subplot(1,2,2),plt.imshow(imgscb[0]/255), plt.xticks([]), plt.yticks([])\n",
    "plt.show()"
   ]
  },
  {
   "cell_type": "code",
   "execution_count": null,
   "id": "df688153",
   "metadata": {},
   "outputs": [],
   "source": [
    "plt.figure(figsize=(14, 8))\n",
    "plt.subplot(1,2,1),plt.imshow(imgsca[0,9:24,9:24,:]/255), plt.xticks([]), plt.yticks([])\n",
    "plt.subplot(1,2,2),plt.imshow(imgscb[0,9:24,9:24,:]/255), plt.xticks([]), plt.yticks([])\n",
    "plt.show()"
   ]
  },
  {
   "cell_type": "code",
   "execution_count": null,
   "id": "bb8afd7e",
   "metadata": {},
   "outputs": [],
   "source": [
    "fig = plt.figure(figsize=(80, 65))\n",
    "for i in range(10):\n",
    "    if i<5:\n",
    "        ax = fig.add_subplot(4, 5, i+1, xticks=[], yticks=[])\n",
    "        ax.imshow(imgsca[i]/255)\n",
    "        ax.set_title(ll[i],pad = 15, fontdict={'weight':'bold','size':52})\n",
    "        bx = fig.add_subplot(4, 5, i+6, xticks=[], yticks=[])\n",
    "        bx.imshow(imgscb[i]/255) \n",
    "    if i>=5:\n",
    "        ax = fig.add_subplot(4, 5, i+6, xticks=[], yticks=[])\n",
    "        ax.imshow(imgsca[i]/255)\n",
    "        ax.set_title(ll[i],pad = 15, fontdict={'weight':'bold','size':52})\n",
    "        bx = fig.add_subplot(4, 5, i+11, xticks=[], yticks=[])\n",
    "        bx.imshow(imgscb[i]/255) \n",
    "plt.tight_layout()\n",
    "plt.show()"
   ]
  },
  {
   "cell_type": "code",
   "execution_count": null,
   "id": "79ba072d",
   "metadata": {},
   "outputs": [],
   "source": [
    "fig = plt.figure(figsize=(80, 65))\n",
    "for i in range(10):\n",
    "    if i<5:\n",
    "        ax = fig.add_subplot(4, 5, i+1, xticks=[], yticks=[])\n",
    "        ax.imshow(imgsca[i,9:24,9:24,:]/255)\n",
    "        ax.set_title(ll[i],pad = 15, fontdict={'weight':'bold','size':52})\n",
    "        bx = fig.add_subplot(4, 5, i+6, xticks=[], yticks=[])\n",
    "        bx.imshow(imgscb[i,9:24,9:24,:]/255) \n",
    "    if i>=5:\n",
    "        ax = fig.add_subplot(4, 5, i+6, xticks=[], yticks=[])\n",
    "        ax.imshow(imgsca[i,9:24,9:24,:]/255)\n",
    "        ax.set_title(ll[i],pad = 15, fontdict={'weight':'bold','size':52})\n",
    "        bx = fig.add_subplot(4, 5, i+11, xticks=[], yticks=[])\n",
    "        bx.imshow(imgscb[i,9:24,9:24,:]/255) \n",
    "plt.tight_layout()\n",
    "plt.show()"
   ]
  },
  {
   "cell_type": "code",
   "execution_count": null,
   "id": "d7f411a9",
   "metadata": {},
   "outputs": [],
   "source": [
    "fig = plt.figure(figsize=(100, 21.5))\n",
    "for i in range(10):\n",
    "\n",
    "    ax = fig.add_subplot(2, 10, i+1, xticks=[], yticks=[])\n",
    "    ax.imshow(imgsca[i,9:24,9:24,:]/255)\n",
    "    ax.set_title(ll[i],pad = 15, fontdict={'weight':'bold','size':62})\n",
    "    bx = fig.add_subplot(2, 10, i+11, xticks=[], yticks=[])\n",
    "    bx.imshow(imgscb[i,9:24,9:24,:]/255) \n",
    "\n",
    "plt.tight_layout()\n",
    "plt.show()"
   ]
  },
  {
   "cell_type": "code",
   "execution_count": null,
   "id": "0e45e7c8",
   "metadata": {},
   "outputs": [],
   "source": [
    "fig = plt.figure(figsize=(80, 65))\n",
    "for i in range(10):\n",
    "    if i<5:\n",
    "        ax = fig.add_subplot(4, 5, i+1, xticks=[], yticks=[])\n",
    "        ax.imshow(imgsca[i]/255)\n",
    "        ax.set_title(ll[i],pad = 15, fontdict={'weight':'bold','size':62})\n",
    "        bx = fig.add_subplot(4, 5, i+6, xticks=[], yticks=[])\n",
    "        bx.imshow(imgscb[i]/255) \n",
    "\n",
    "plt.tight_layout()\n",
    "plt.show()"
   ]
  },
  {
   "cell_type": "code",
   "execution_count": null,
   "id": "1d91fa50",
   "metadata": {},
   "outputs": [],
   "source": [
    "fig = plt.figure(figsize=(80, 65))\n",
    "for i in range(10):\n",
    "\n",
    "    if i>=5:\n",
    "        ax = fig.add_subplot(4, 5, i+6, xticks=[], yticks=[])\n",
    "        ax.imshow(imgsca[i]/255)\n",
    "        ax.set_title(ll[i],pad = 15, fontdict={'weight':'bold','size':62})\n",
    "        bx = fig.add_subplot(4, 5, i+11, xticks=[], yticks=[])\n",
    "        bx.imshow(imgscb[i]/255) \n",
    "plt.tight_layout()\n",
    "plt.show()"
   ]
  },
  {
   "cell_type": "code",
   "execution_count": null,
   "id": "d30733e5",
   "metadata": {},
   "outputs": [],
   "source": [
    "fig = plt.figure(figsize=(80, 65))\n",
    "for i in range(10):\n",
    "    if i<5:\n",
    "        ax = fig.add_subplot(4, 5, i+1, xticks=[], yticks=[])\n",
    "        ax.imshow(imgsca[i,9:24,9:24,:]/255)\n",
    "        ax.set_title(ll[i],pad = 15, fontdict={'weight':'bold','size':52})\n",
    "        bx = fig.add_subplot(4, 5, i+6, xticks=[], yticks=[])\n",
    "        bx.imshow(imgscb[i,9:24,9:24,:]/255) \n",
    "\n",
    "plt.tight_layout()\n",
    "plt.show()"
   ]
  },
  {
   "cell_type": "code",
   "execution_count": null,
   "id": "f77cc0d3",
   "metadata": {},
   "outputs": [],
   "source": [
    "fig = plt.figure(figsize=(80, 65))\n",
    "for i in range(10):\n",
    "\n",
    "    if i>=5:\n",
    "        ax = fig.add_subplot(4, 5, i+6, xticks=[], yticks=[])\n",
    "        ax.imshow(imgsca[i,9:24,9:24,:]/255)\n",
    "        ax.set_title(ll[i],pad = 15, fontdict={'weight':'bold','size':52})\n",
    "        bx = fig.add_subplot(4, 5, i+11, xticks=[], yticks=[])\n",
    "        bx.imshow(imgscb[i,9:24,9:24,:]/255) \n",
    "plt.tight_layout()\n",
    "plt.show()"
   ]
  },
  {
   "cell_type": "code",
   "execution_count": null,
   "id": "c4e280be",
   "metadata": {},
   "outputs": [],
   "source": [
    "imgsc = np.zeros((10, 33, 33, 3))"
   ]
  },
  {
   "cell_type": "code",
   "execution_count": null,
   "id": "0272df97",
   "metadata": {},
   "outputs": [],
   "source": [
    "m=0\n",
    "labnode=0\n",
    "for file_name in tqdm(file_names):\n",
    "    \n",
    "    time.sleep(0.01)\n",
    "    file_path = os.path.join(main_path,file_name)\n",
    "    fh5 = h5py.File(file_path,'r')\n",
    "    img = fh5['map']\n",
    "    img = np.array(img)\n",
    "    #print(img.shape)\n",
    "    lab = fh5['lab']\n",
    "    lab = np.array(lab)\n",
    "    #print(lab.shape)\n",
    "    for i in range(len(lab)-1):\n",
    "        if lab[i]!=lab[i+1]:\n",
    "            labnode=i\n",
    "            break\n",
    "    #print(labnode)\n",
    "\n",
    "    imga = img[:labnode+1,:,:]\n",
    "    imgb = img[labnode+1:,:,:]\n",
    "\n",
    "    #print(img3.shape)\n",
    "    t_statistic, p_value = stats.ttest_ind(imga, imgb)\n",
    "    std = np.mean(img,axis=0)\n",
    "    stda = np.mean(imga,axis=0)\n",
    "    stdb = np.mean(imgb,axis=0)\n",
    "    std3a = np.mean(img3a,axis=0)\n",
    "    std3b = np.mean(img3b,axis=0)\n",
    "\n",
    "    std3au = np.uint8(std3a)\n",
    "    std3bu = np.uint8(std3b)\n",
    "    imgsca[m] = std3a\n",
    "    imgscb[m] = std3b\n",
    "    imgscau[m] = std3au\n",
    "    imgscbu[m] = std3bu\n",
    "    m=m+1"
   ]
  }
 ],
 "metadata": {
  "kernelspec": {
   "display_name": "Python 3",
   "language": "python",
   "name": "python3"
  },
  "language_info": {
   "codemirror_mode": {
    "name": "ipython",
    "version": 3
   },
   "file_extension": ".py",
   "mimetype": "text/x-python",
   "name": "python",
   "nbconvert_exporter": "python",
   "pygments_lexer": "ipython3",
   "version": "3.6.13"
  }
 },
 "nbformat": 4,
 "nbformat_minor": 5
}
