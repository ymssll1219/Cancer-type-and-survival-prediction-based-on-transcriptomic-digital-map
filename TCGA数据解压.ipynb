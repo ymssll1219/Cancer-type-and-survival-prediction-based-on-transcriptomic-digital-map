{
 "cells": [
  {
   "cell_type": "code",
   "execution_count": null,
   "id": "cb0b269c",
   "metadata": {},
   "outputs": [],
   "source": [
    "import numpy as np\n",
    "import pandas as pd\n",
    "import os\n",
    "import time\n",
    "from tqdm import tqdm\n",
    "from tqdm._tqdm import trange"
   ]
  },
  {
   "cell_type": "code",
   "execution_count": null,
   "id": "aede4af6",
   "metadata": {},
   "outputs": [],
   "source": [
    "patho = r'G:\\\\DT\\\\ZZKIRC\\KIRC4\\\\0a4e4402-13a5-4eea-b70c-b121bcf81156\\\\6abcbd13-ff11-46d6-9ce0-6204a6658c39.rna_seq.augmented_star_gene_counts.tsv'"
   ]
  },
  {
   "cell_type": "code",
   "execution_count": null,
   "id": "8891b60a",
   "metadata": {},
   "outputs": [],
   "source": [
    "data0 = pd.read_table(patho,header=None,delim_whitespace=True,skiprows=6)"
   ]
  },
  {
   "cell_type": "code",
   "execution_count": null,
   "id": "b5ddfe9b",
   "metadata": {},
   "outputs": [],
   "source": [
    "main_path = os.path.join(os.getcwd(),r'H:\\\\OSdata\\\\UCEC2')\n",
    "file_names = os.listdir(main_path)"
   ]
  },
  {
   "cell_type": "code",
   "execution_count": null,
   "id": "0ef561cf",
   "metadata": {},
   "outputs": [],
   "source": [
    "combined_matrix = np.zeros((len(file_names),len(data0)))"
   ]
  },
  {
   "cell_type": "code",
   "execution_count": null,
   "id": "87712da8",
   "metadata": {},
   "outputs": [],
   "source": [
    "n=0\n",
    "for file_name in tqdm(file_names):  \n",
    "    time.sleep(0.01)\n",
    "    file_path = os.path.join(main_path,file_name)\n",
    "    if(os.listdir(file_path)):\n",
    "        tsv_names = os.listdir(file_path)\n",
    "        for tsv_name in tsv_names:\n",
    "            if (tsv_name[-2:] == 'sv'):\n",
    "                tsv_path = os.path.join(file_path,tsv_name)\n",
    "                data = pd.read_table(tsv_path,header=None,delim_whitespace=True,skiprows=6)\n",
    "                for i in range(len(data)):\n",
    "                    combined_matrix[n][i]=data[7][i]\n",
    "                n=n+1"
   ]
  },
  {
   "cell_type": "code",
   "execution_count": null,
   "id": "2039c39b",
   "metadata": {},
   "outputs": [],
   "source": [
    "import h5py \n",
    "f = h5py.File('H:\\\\H5\\\\UCECq.h5', 'w')\n",
    "f.create_dataset('feat', data=combined_matrix)\n",
    "f.close()"
   ]
  }
 ],
 "metadata": {
  "kernelspec": {
   "display_name": "Python 3",
   "language": "python",
   "name": "python3"
  },
  "language_info": {
   "codemirror_mode": {
    "name": "ipython",
    "version": 3
   },
   "file_extension": ".py",
   "mimetype": "text/x-python",
   "name": "python",
   "nbconvert_exporter": "python",
   "pygments_lexer": "ipython3",
   "version": "3.6.13"
  }
 },
 "nbformat": 4,
 "nbformat_minor": 5
}
