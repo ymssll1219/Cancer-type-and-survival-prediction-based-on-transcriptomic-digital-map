{
 "cells": [
  {
   "cell_type": "code",
   "execution_count": 1,
   "metadata": {
    "scrolled": true
   },
   "outputs": [
    {
     "name": "stderr",
     "output_type": "stream",
     "text": [
      "C:\\Users\\Administrator\\.conda\\envs\\tensor1.14\\lib\\site-packages\\ipykernel_launcher.py:6: TqdmDeprecationWarning: This function will be removed in tqdm==5.0.0\n",
      "Please use `tqdm.std.*` instead of `tqdm._tqdm.*`\n",
      "  \n"
     ]
    }
   ],
   "source": [
    "import numpy as np\n",
    "import pandas as pd\n",
    "import os\n",
    "import time\n",
    "from tqdm import tqdm\n",
    "from tqdm._tqdm import trange"
   ]
  },
  {
   "cell_type": "code",
   "execution_count": 2,
   "metadata": {},
   "outputs": [],
   "source": [
    "patho = r'G:\\\\DT\\\\ZZKIRC\\KIRC4\\\\0a4e4402-13a5-4eea-b70c-b121bcf81156\\\\6abcbd13-ff11-46d6-9ce0-6204a6658c39.rna_seq.augmented_star_gene_counts.tsv'"
   ]
  },
  {
   "cell_type": "code",
   "execution_count": 3,
   "metadata": {},
   "outputs": [],
   "source": [
    "#"
   ]
  },
  {
   "cell_type": "code",
   "execution_count": 4,
   "metadata": {},
   "outputs": [
    {
     "name": "stdout",
     "output_type": "stream",
     "text": [
      "(60660, 9)\n"
     ]
    }
   ],
   "source": [
    "data0 = pd.read_table(patho,header=None,delim_whitespace=True,skiprows=6)#encoding='gb2312',index_col=0\n",
    "print(data0.shape)"
   ]
  },
  {
   "cell_type": "code",
   "execution_count": 5,
   "metadata": {},
   "outputs": [
    {
     "data": {
      "text/plain": [
       "14.3433"
      ]
     },
     "execution_count": 5,
     "metadata": {},
     "output_type": "execute_result"
    }
   ],
   "source": [
    "data0[7][0]"
   ]
  },
  {
   "cell_type": "code",
   "execution_count": 90,
   "metadata": {},
   "outputs": [
    {
     "name": "stdout",
     "output_type": "stream",
     "text": [
      "194e1801-f50a-4495-8838-fd72cf55bccb\n"
     ]
    }
   ],
   "source": [
    "main_path = os.path.join(os.getcwd(),r'H:\\\\OSdata\\\\UCEC2')\n",
    "file_names = os.listdir(main_path)\n",
    "print(file_names[0])"
   ]
  },
  {
   "cell_type": "code",
   "execution_count": 91,
   "metadata": {},
   "outputs": [
    {
     "data": {
      "text/plain": [
       "(50, 60660)"
      ]
     },
     "execution_count": 91,
     "metadata": {},
     "output_type": "execute_result"
    }
   ],
   "source": [
    "combined_matrix = np.zeros((len(file_names),len(data0)))\n",
    "combined_matrix.shape"
   ]
  },
  {
   "cell_type": "code",
   "execution_count": 92,
   "metadata": {},
   "outputs": [
    {
     "data": {
      "text/plain": [
       "array([0., 0., 0., ..., 0., 0., 0.])"
      ]
     },
     "execution_count": 92,
     "metadata": {},
     "output_type": "execute_result"
    }
   ],
   "source": [
    "combined_matrix[0]"
   ]
  },
  {
   "cell_type": "code",
   "execution_count": 93,
   "metadata": {},
   "outputs": [
    {
     "name": "stderr",
     "output_type": "stream",
     "text": [
      "100%|██████████████████████████████████████████████████████████████████████████████████| 50/50 [00:23<00:00,  2.11it/s]\n"
     ]
    }
   ],
   "source": [
    "n=0\n",
    "for file_name in tqdm(file_names):\n",
    "    \n",
    "    time.sleep(0.01)\n",
    "    file_path = os.path.join(main_path,file_name)\n",
    "    if(os.listdir(file_path)):\n",
    "        tsv_names = os.listdir(file_path)\n",
    "        for tsv_name in tsv_names:\n",
    "            if (tsv_name[-2:] == 'sv'):\n",
    "                tsv_path = os.path.join(file_path,tsv_name)\n",
    "                data = pd.read_table(tsv_path,header=None,delim_whitespace=True,skiprows=6)\n",
    "                for i in range(len(data)):\n",
    "                    combined_matrix[n][i]=data[7][i]\n",
    "                n=n+1\n",
    "            \n",
    "                #print(tsv_path)\n",
    "    "
   ]
  },
  {
   "cell_type": "code",
   "execution_count": 94,
   "metadata": {},
   "outputs": [
    {
     "data": {
      "text/plain": [
       "array([16.3142,  0.1007, 18.7952, ...,  0.    ,  0.0206,  0.5012])"
      ]
     },
     "execution_count": 94,
     "metadata": {},
     "output_type": "execute_result"
    }
   ],
   "source": [
    "combined_matrix[0]"
   ]
  },
  {
   "cell_type": "code",
   "execution_count": 95,
   "metadata": {},
   "outputs": [],
   "source": [
    "import h5py \n",
    "f = h5py.File('H:\\\\H5\\\\UCECq.h5', 'w')\n",
    "f.create_dataset('feat', data=combined_matrix)\n",
    "f.close()"
   ]
  },
  {
   "cell_type": "code",
   "execution_count": null,
   "metadata": {},
   "outputs": [],
   "source": []
  }
 ],
 "metadata": {
  "kernelspec": {
   "display_name": "Python 3",
   "language": "python",
   "name": "python3"
  },
  "language_info": {
   "codemirror_mode": {
    "name": "ipython",
    "version": 3
   },
   "file_extension": ".py",
   "mimetype": "text/x-python",
   "name": "python",
   "nbconvert_exporter": "python",
   "pygments_lexer": "ipython3",
   "version": "3.6.13"
  }
 },
 "nbformat": 4,
 "nbformat_minor": 4
}
