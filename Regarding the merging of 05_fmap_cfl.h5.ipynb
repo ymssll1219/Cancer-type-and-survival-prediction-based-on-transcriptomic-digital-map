{
 "cells": [
  {
   "cell_type": "code",
   "execution_count": 8,
   "id": "00794a21-d269-4a6a-8ae5-164a3bc8e546",
   "metadata": {},
   "outputs": [],
   "source": [
    "import h5py\n",
    "import numpy as np"
   ]
  },
  {
   "cell_type": "code",
   "execution_count": 9,
   "id": "758c7f13-d9ff-442e-ad7c-fde81974aac6",
   "metadata": {},
   "outputs": [],
   "source": [
    "part_files = [\n",
    "    'C:/Users/15034/Desktop/12345/05_fmap_cfl_part_1.h5',\n",
    "    'C:/Users/15034/Desktop/12345/05_fmap_cfl_part_2.h5',\n",
    "    'C:/Users/15034/Desktop/12345/05_fmap_cfl_part_3.h5',\n",
    "    'C:/Users/15034/Desktop/12345/05_fmap_cfl_part_4.h5'\n",
    "]\n",
    "output_file = 'C:/Users/15034/Desktop/12345/05_fmap_cfl.h5'"
   ]
  },
  {
   "cell_type": "code",
   "execution_count": 10,
   "id": "5e497636-384e-4b57-ac21-79843037d0fa",
   "metadata": {},
   "outputs": [],
   "source": [
    "lab_data_list = []\n",
    "map_data_list = []"
   ]
  },
  {
   "cell_type": "code",
   "execution_count": 11,
   "id": "1614228e-4173-4ef5-9b81-2c9649ec1406",
   "metadata": {},
   "outputs": [],
   "source": [
    "for part_file in part_files:\n",
    "    with h5py.File(part_file, 'r') as f:\n",
    "        lab_data_list.append(f['lab'][:])\n",
    "        map_data_list.append(f['map'][:])"
   ]
  },
  {
   "cell_type": "code",
   "execution_count": 12,
   "id": "613227de-d24d-4b7c-9e48-56bbffc04d0f",
   "metadata": {},
   "outputs": [],
   "source": [
    "lab_data_merged = np.concatenate(lab_data_list, axis=0)\n",
    "map_data_merged = np.concatenate(map_data_list, axis=0)"
   ]
  },
  {
   "cell_type": "code",
   "execution_count": 13,
   "id": "7a8d4a67-111e-4750-a309-3db426624803",
   "metadata": {},
   "outputs": [
    {
     "name": "stdout",
     "output_type": "stream",
     "text": [
      "C:/Users/15034/Desktop/12345/05_fmap_cfl.h5\n"
     ]
    }
   ],
   "source": [
    "with h5py.File(output_file, 'w') as f:\n",
    "    f.create_dataset('lab', data=lab_data_merged)\n",
    "    f.create_dataset('map', data=map_data_merged)\n",
    "print( output_file)"
   ]
  },
  {
   "cell_type": "code",
   "execution_count": null,
   "id": "fb09995a-89f7-46d1-a03d-113f3c1bf459",
   "metadata": {},
   "outputs": [],
   "source": []
  }
 ],
 "metadata": {
  "kernelspec": {
   "display_name": "Python 3 (ipykernel)",
   "language": "python",
   "name": "python3"
  },
  "language_info": {
   "codemirror_mode": {
    "name": "ipython",
    "version": 3
   },
   "file_extension": ".py",
   "mimetype": "text/x-python",
   "name": "python",
   "nbconvert_exporter": "python",
   "pygments_lexer": "ipython3",
   "version": "3.9.0"
  }
 },
 "nbformat": 4,
 "nbformat_minor": 5
}
