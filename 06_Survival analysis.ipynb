{
 "cells": [
  {
   "cell_type": "code",
   "execution_count": 1,
   "id": "d89ee6b4",
   "metadata": {},
   "outputs": [],
   "source": [
    "import pandas as pd\n",
    "from lifelines import CoxPHFitter\n",
    "from lifelines.utils import concordance_index"
   ]
  },
  {
   "cell_type": "code",
   "execution_count": 2,
   "id": "18a08cb7",
   "metadata": {},
   "outputs": [],
   "source": [
    "df1 = pd.read_csv('g:\\\\BLCA1.csv')\n",
    "df2 = pd.read_csv('g:\\\\BLCA2.csv')"
   ]
  },
  {
   "cell_type": "code",
   "execution_count": 3,
   "id": "310bfff6",
   "metadata": {},
   "outputs": [],
   "source": [
    "df1['SurvivalTime'] = df1['days_to_death'] / 30.44\n",
    "df2['SurvivalTime'] = df2['days_to_death'] / 30.44\n",
    "\n",
    "selected_genes = ['CD74', 'PSMB1', 'HSP90B1', 'HSPA5', 'CCT7','RALA','MDH1','NFE2L2','ATP5MC1','PCMT1','ZFAND5']\n",
    "gene_columns = ['event', 'SurvivalTime'] + selected_genes\n",
    "\n",
    "df1 = df1[gene_columns]\n",
    "df2 = df2[gene_columns]"
   ]
  },
  {
   "cell_type": "code",
   "execution_count": 4,
   "id": "2c5e5531",
   "metadata": {},
   "outputs": [
    {
     "name": "stdout",
     "output_type": "stream",
     "text": [
      "df1 列名: Index(['event', 'SurvivalTime', 'CD74', 'PSMB1', 'HSP90B1', 'HSPA5', 'CCT7',\n",
      "       'RALA', 'MDH1', 'NFE2L2', 'ATP5MC1', 'PCMT1', 'ZFAND5'],\n",
      "      dtype='object')\n",
      "df2 列名: Index(['event', 'SurvivalTime', 'CD74', 'PSMB1', 'HSP90B1', 'HSPA5', 'CCT7',\n",
      "       'RALA', 'MDH1', 'NFE2L2', 'ATP5MC1', 'PCMT1', 'ZFAND5'],\n",
      "      dtype='object')\n"
     ]
    }
   ],
   "source": [
    "print(\"df1 列名:\", df1.columns)\n",
    "print(\"df2 列名:\", df2.columns)"
   ]
  },
  {
   "cell_type": "code",
   "execution_count": 5,
   "id": "245d8182",
   "metadata": {},
   "outputs": [
    {
     "name": "stdout",
     "output_type": "stream",
     "text": [
      "df2 'event' 列样本值: 0    1\n",
      "1    1\n",
      "2    1\n",
      "3    1\n",
      "4    1\n",
      "Name: event, dtype: int64\n"
     ]
    }
   ],
   "source": [
    "print(\"df2 'event' 列样本值:\", df2['event'].head())"
   ]
  },
  {
   "cell_type": "code",
   "execution_count": 6,
   "id": "33b0b837",
   "metadata": {},
   "outputs": [],
   "source": [
    "matched_pairs = []\n",
    "\n",
    "for i, row1 in df1.iterrows():\n",
    "    for j, row2 in df2.iterrows():\n",
    "        if row1['event'] == 1 and row2['event'] == 1 and row1['SurvivalTime'] < row2['SurvivalTime']:\n",
    "            matched_pairs.append((i, j))"
   ]
  },
  {
   "cell_type": "code",
   "execution_count": 7,
   "id": "e84633e0",
   "metadata": {},
   "outputs": [],
   "source": [
    "cph = CoxPHFitter()"
   ]
  },
  {
   "cell_type": "code",
   "execution_count": 8,
   "id": "7adc276f",
   "metadata": {},
   "outputs": [
    {
     "data": {
      "text/plain": [
       "<lifelines.CoxPHFitter: fitted with 96 total observations, 5 right-censored observations>"
      ]
     },
     "execution_count": 8,
     "metadata": {},
     "output_type": "execute_result"
    }
   ],
   "source": [
    "cph.fit(df1, duration_col='SurvivalTime', event_col='event')\n",
    "cph = CoxPHFitter(penalizer=0.01)\n",
    "cph.fit(df2, duration_col='SurvivalTime', event_col='event')"
   ]
  },
  {
   "cell_type": "code",
   "execution_count": 9,
   "id": "44a49048",
   "metadata": {},
   "outputs": [],
   "source": [
    "predicted_survival_1 = cph.predict_survival_function(df1)\n",
    "predicted_hazard_1 = -cph.predict_partial_hazard(df1)\n",
    "predicted_survival_1_values = predicted_survival_1.values\n",
    "\n",
    "\n",
    "predicted_survival_2 = cph.predict_survival_function(df2)\n",
    "predicted_hazard_2 = -cph.predict_partial_hazard(df2)\n",
    "predicted_survival_2_values = predicted_survival_2.values"
   ]
  },
  {
   "cell_type": "code",
   "execution_count": 10,
   "id": "df6e7f5b",
   "metadata": {},
   "outputs": [
    {
     "name": "stdout",
     "output_type": "stream",
     "text": [
      "event_times shape: (95,)\n",
      "predicted_scores shape: (83, 95)\n",
      "event_times shape: (96,)\n",
      "predicted_scores shape: (83, 96)\n"
     ]
    }
   ],
   "source": [
    "print(\"event_times shape:\", df1['SurvivalTime'].shape)\n",
    "print(\"predicted_scores shape:\", predicted_survival_1.shape)\n",
    "\n",
    "print(\"event_times shape:\", df2['SurvivalTime'].shape)\n",
    "print(\"predicted_scores shape:\", predicted_survival_2.shape)"
   ]
  },
  {
   "cell_type": "code",
   "execution_count": 11,
   "id": "0d9fd32a",
   "metadata": {},
   "outputs": [],
   "source": [
    "df = pd.concat([df1, df2], ignore_index=True)"
   ]
  },
  {
   "cell_type": "code",
   "execution_count": 12,
   "id": "8fe3cc9f",
   "metadata": {},
   "outputs": [
    {
     "data": {
      "text/plain": [
       "<lifelines.CoxPHFitter: fitted with 191 total observations, 5 right-censored observations>"
      ]
     },
     "execution_count": 12,
     "metadata": {},
     "output_type": "execute_result"
    }
   ],
   "source": [
    "cph = CoxPHFitter()\n",
    "cph.fit(df, duration_col='SurvivalTime', event_col='event')"
   ]
  },
  {
   "cell_type": "code",
   "execution_count": 13,
   "id": "9c9c551d",
   "metadata": {},
   "outputs": [],
   "source": [
    "predicted_hazard = -cph.predict_partial_hazard(df)"
   ]
  },
  {
   "cell_type": "code",
   "execution_count": 14,
   "id": "7ac14f1d",
   "metadata": {},
   "outputs": [
    {
     "name": "stdout",
     "output_type": "stream",
     "text": [
      "C-index for the entire dataset: 0.6703144862654065\n"
     ]
    }
   ],
   "source": [
    "c_index = concordance_index(event_times=df['SurvivalTime'], predicted_scores=predicted_hazard, event_observed=df['event'])\n",
    "print(f\"C-index for the entire dataset: {c_index}\")"
   ]
  },
  {
   "cell_type": "code",
   "execution_count": 15,
   "id": "484429d1",
   "metadata": {},
   "outputs": [],
   "source": [
    "import matplotlib.pyplot as plt\n",
    "\n",
    "predicted_survival = cph.predict_survival_function(df)"
   ]
  },
  {
   "cell_type": "code",
   "execution_count": 16,
   "id": "b1bf2297",
   "metadata": {},
   "outputs": [],
   "source": [
    "import matplotlib.pyplot as plt"
   ]
  },
  {
   "cell_type": "code",
   "execution_count": 17,
   "id": "9b31bb51",
   "metadata": {},
   "outputs": [],
   "source": [
    "predicted_survival_1 = cph.predict_survival_function(df1)\n",
    "predicted_survival_2 = cph.predict_survival_function(df2)"
   ]
  },
  {
   "cell_type": "code",
   "execution_count": 18,
   "id": "fcb08743",
   "metadata": {},
   "outputs": [],
   "source": [
    "import matplotlib.pyplot as plt\n",
    "\n",
    "predicted_survival_1 = cph.predict_survival_function(df1[['CD74', 'PSMB1', 'HSP90B1', 'HSPA5', 'CCT7','RALA','MDH1','NFE2L2','ATP5MC1','PCMT1','ZFAND5']])\n",
    "predicted_survival_2 = cph.predict_survival_function(df2[['CD74', 'PSMB1', 'HSP90B1', 'HSPA5', 'CCT7','RALA','MDH1','NFE2L2','ATP5MC1','PCMT1','ZFAND5']])\n",
    "\n",
    "mean_survival_1 = predicted_survival_1.mean(axis=1)\n",
    "mean_survival_2 = predicted_survival_2.mean(axis=1)"
   ]
  },
  {
   "cell_type": "code",
   "execution_count": 19,
   "id": "b97dbd03",
   "metadata": {},
   "outputs": [],
   "source": [
    "import matplotlib.pyplot as plt\n",
    "from lifelines.statistics import logrank_test\n",
    "\n",
    "results = logrank_test(df1['SurvivalTime'], df2['SurvivalTime'], event_observed_A=df1['event'], event_observed_B=df2['event'])\n",
    "p_value = results.p_value"
   ]
  },
  {
   "cell_type": "code",
   "execution_count": 20,
   "id": "fc379bec",
   "metadata": {},
   "outputs": [],
   "source": [
    "import matplotlib.pyplot as plt\n",
    "from lifelines.statistics import logrank_test\n",
    "\n",
    "results = logrank_test(df1['SurvivalTime'], df2['SurvivalTime'], event_observed_A=df1['event'], event_observed_B=df2['event'])\n",
    "p_value = results.p_value"
   ]
  },
  {
   "cell_type": "code",
   "execution_count": 21,
   "id": "95604a7d",
   "metadata": {},
   "outputs": [],
   "source": [
    "import matplotlib.pyplot as plt\n",
    "predicted_survival_1 = cph.predict_survival_function(df1[ ['CD74', 'PSMB1', 'HSP90B1', 'HSPA5', 'CCT7','RALA','MDH1','NFE2L2','ATP5MC1','PCMT1','ZFAND5']])\n",
    "predicted_survival_2 = cph.predict_survival_function(df2[ ['CD74', 'PSMB1', 'HSP90B1', 'HSPA5', 'CCT7','RALA','MDH1','NFE2L2','ATP5MC1','PCMT1','ZFAND5']])\n",
    "\n",
    "mean_survival_1 = predicted_survival_1.mean(axis=1)\n",
    "mean_survival_2 = predicted_survival_2.mean(axis=1)"
   ]
  },
  {
   "cell_type": "code",
   "execution_count": 22,
   "id": "ae4615e4",
   "metadata": {},
   "outputs": [
    {
     "data": {
      "image/png": "[encoded data removed]",
      "text/plain": [
       "<Figure size 432x288 with 1 Axes>"
      ]
     },
     "metadata": {
      "needs_background": "light"
     },
     "output_type": "display_data"
    }
   ],
   "source": [
    "min_time = min(mean_survival_1.index.min(), mean_survival_2.index.min())\n",
    "max_time = max(mean_survival_1.index.max(), mean_survival_2.index.max())\n",
    "plt.xlim(0, 60)\n",
    "plt.step(mean_survival_1.index, mean_survival_1.values, label='Low survival group', color='red')\n",
    "plt.step(mean_survival_2.index, mean_survival_2.values, label='High survival group', color='blue')\n",
    "plt.title('BLCA')\n",
    "plt.text(30, 0.83, f'Log-rank p-value: {p_value:.2e}', fontsize=12, color='black', bbox=dict(facecolor='white', alpha=0.8))\n",
    "plt.legend()\n",
    "plt.show()\n"
   ]
  },
  {
   "cell_type": "code",
   "execution_count": null,
   "id": "ab3e2bff",
   "metadata": {},
   "outputs": [],
   "source": []
  }
 ],
 "metadata": {
  "kernelspec": {
   "display_name": "Python 3",
   "language": "python",
   "name": "python3"
  },
  "language_info": {
   "codemirror_mode": {
    "name": "ipython",
    "version": 3
   },
   "file_extension": ".py",
   "mimetype": "text/x-python",
   "name": "python",
   "nbconvert_exporter": "python",
   "pygments_lexer": "ipython3",
   "version": "3.6.13"
  }
 },
 "nbformat": 4,
 "nbformat_minor": 5
}
