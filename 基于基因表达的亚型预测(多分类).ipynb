{
 "cells": [
  {
   "cell_type": "code",
   "execution_count": null,
   "id": "8ac03d0c",
   "metadata": {},
   "outputs": [],
   "source": [
    "import h5py\n",
    "import numpy as np\n",
    "fh5 = h5py.File('d:/h5/fmap_cf.h5','r')\n",
    "img = fh5['map']\n",
    "img = np.array(img)\n",
    "lab = fh5['lab']\n",
    "lab = np.array(lab)"
   ]
  },
  {
   "cell_type": "code",
   "execution_count": null,
   "id": "3e3cf8ad",
   "metadata": {},
   "outputs": [],
   "source": [
    "img = img.reshape(len(img), 33, 33, 1)"
   ]
  },
  {
   "cell_type": "code",
   "execution_count": null,
   "id": "98cabbbd",
   "metadata": {},
   "outputs": [],
   "source": [
    "from tensorflow.keras.utils import to_categorical\n",
    "train_labels = to_categorical(lab)"
   ]
  },
  {
   "cell_type": "code",
   "execution_count": null,
   "id": "fa13f0e9",
   "metadata": {},
   "outputs": [],
   "source": [
    "from sklearn.model_selection import train_test_split\n",
    "X_train,X_test,y_train,y_test=train_test_split(img,train_labels,test_size=0.25,random_state=1)"
   ]
  },
  {
   "cell_type": "code",
   "execution_count": null,
   "id": "e368b810",
   "metadata": {},
   "outputs": [],
   "source": [
    "from keras import models\n",
    "from keras import layers\n",
    "from keras.models import Sequential,Input\n",
    "from keras import optimizers\n",
    "import keras\n",
    "from keras.layers import Conv2D,MaxPooling2D,Dropout,BatchNormalization,Flatten,Dense,Lambda,Multiply,AveragePooling2D,Activation\n",
    "from keras.models import Model"
   ]
  },
  {
   "cell_type": "code",
   "execution_count": null,
   "id": "146f6e6f",
   "metadata": {},
   "outputs": [],
   "source": [
    "callbacks_list = [\n",
    "    keras.callbacks.ReduceLROnPlateau(monitor='val_loss',factor=0.5,patience=10),\n",
    "    keras.callbacks.ModelCheckpoint(filepath='e:/data/rmap.h5',monitor='val_loss',save_best_only=True)   ##保存最佳模型\n",
    "    ]"
   ]
  },
  {
   "cell_type": "code",
   "execution_count": null,
   "id": "ea9f2890",
   "metadata": {},
   "outputs": [],
   "source": [
    "def Conv2d_BN(x, nb_filter,kernel_size, padding='valid',strides=(1,1),data_format='channels_last',dilation_rate=(1,1),\n",
    "              activation='relu',name=None):\n",
    "    if name is not None:\n",
    "        bn_name = name + '_bn'\n",
    "        conv_name = name + '_conv'\n",
    "    else:\n",
    "        bn_name = None\n",
    "        conv_name = None\n",
    "\n",
    "    x = Conv2D(nb_filter,kernel_size,padding=padding,strides=strides,data_format='channels_last',activation='relu',\n",
    "               dilation_rate=dilation_rate,name=conv_name)(x)\n",
    "    x = BatchNormalization(name=bn_name)(x)\n",
    "    \n",
    "    return x"
   ]
  },
  {
   "cell_type": "code",
   "execution_count": null,
   "id": "a2f84595",
   "metadata": {},
   "outputs": [],
   "source": [
    "def InceptionB(x,nb_filter):\n",
    "    branch_1x1_t = Conv2d_BN(x,nb_filter,(1,1), padding='same',strides=(1,1),data_format='channels_last',activation='relu',name=None)\n",
    "    branch_1x1_s = Conv2d_BN(x,nb_filter,(1,1), padding='same',strides=(1,1),data_format='channels_last',activation='relu',name=None)\n",
    "    branch_1x1_s = Activation('sigmoid')(branch_1x1_s)\n",
    "    branch_1x1_c = keras.layers.Multiply()([branch_1x1_t,branch_1x1_s])\n",
    "    \n",
    "    branch_3x3_t = Conv2d_BN(x,nb_filter,(3,3), padding='same',strides=(1,1),data_format='channels_last',activation='relu',name=None)\n",
    "    branch_3x3_s = Conv2d_BN(x,nb_filter,(3,3), padding='same',strides=(1,1),data_format='channels_last',activation='relu',name=None)\n",
    "    branch_3x3_s = Activation('sigmoid')(branch_3x3_s)\n",
    "    branch_3x3_c = keras.layers.Multiply()([branch_3x3_t,branch_3x3_s])\n",
    "       \n",
    "    branch_5x5_t = Conv2d_BN(x,nb_filter,(5,5), padding='same',strides=(1,1),data_format='channels_last',activation='relu',name=None)\n",
    "    branch_5x5_s = Conv2d_BN(x,nb_filter,(5,5), padding='same',strides=(1,1),data_format='channels_last',activation='relu',name=None)\n",
    "    branch_5x5_s = Activation('sigmoid')(branch_5x5_s)\n",
    "    branch_5x5_c = keras.layers.Multiply()([branch_5x5_t,branch_5x5_s])\n",
    "    \n",
    "\n",
    "    x = keras.layers.Concatenate(axis=3)([branch_1x1_c,branch_3x3_c,branch_5x5_c]) #\n",
    "\n",
    "    return x"
   ]
  },
  {
   "cell_type": "code",
   "execution_count": null,
   "id": "612111bb",
   "metadata": {},
   "outputs": [],
   "source": [
    "def InceptionC(x,nb_filter):\n",
    "    branch_1x1_t = Conv2d_BN(x,nb_filter,(1,1), padding='same',strides=(1,1),data_format='channels_last',activation='relu',name=None)\n",
    "    branch_1x1_s = Conv2d_BN(x,nb_filter,(1,1), padding='same',strides=(1,1),data_format='channels_last',activation='relu',name=None)\n",
    "    branch_1x1_s = Activation('sigmoid')(branch_1x1_s)\n",
    "    branch_1x1_c = keras.layers.Multiply()([branch_1x1_t,branch_1x1_s])\n",
    "    \n",
    "    branch_3x3_t = Conv2d_BN(x,nb_filter,(3,3), padding='same',strides=(1,1),data_format='channels_last',activation='relu',name=None)\n",
    "    branch_3x3_s = Conv2d_BN(x,nb_filter,(3,3), padding='same',strides=(1,1),data_format='channels_last',activation='relu',name=None)\n",
    "    branch_3x3_s = Activation('sigmoid')(branch_3x3_s)\n",
    "    branch_3x3_c = keras.layers.Multiply()([branch_3x3_t,branch_3x3_s])\n",
    "    \n",
    "\n",
    "    x = keras.layers.Concatenate(axis=3)([branch_1x1_c,branch_3x3_c]) #branch_1x1_c,\n",
    "\n",
    "    return x"
   ]
  },
  {
   "cell_type": "code",
   "execution_count": null,
   "id": "6164fd0a",
   "metadata": {},
   "outputs": [],
   "source": [
    "def TestNet(input_shape=None):\n",
    "    inpt = Input(shape=input_shape)\n",
    "\n",
    "    x = Conv2d_BN(inpt,32,(3,3),strides=(1,1),padding='same')\n",
    "    x = InceptionB(x,64)\n",
    "    x = MaxPooling2D(pool_size=(2,2),strides=(2,2),padding='same')(x)\n",
    "    x = InceptionB(x,128)\n",
    "    x = MaxPooling2D(pool_size=(2,2),strides=(2,2),padding='same')(x)\n",
    "    x = InceptionC(x,256)\n",
    "    x = MaxPooling2D(pool_size=(2,2),strides=(2,2),padding='same')(x)\n",
    "    x = InceptionC(x,256)\n",
    "    x = AveragePooling2D(pool_size=(2,2),strides=(2,2),padding='same')(x)\n",
    "    x = Dropout(0.3)(x)\n",
    "    x = Flatten()(x)\n",
    "    x = Dense(128,activation='relu')(x)\n",
    "    x = Dropout(0.3)(x)\n",
    "    x = Dense(28,activation='softmax')(x)\n",
    "    model = Model(inpt,x,name='inception')\n",
    "    \n",
    " \n",
    "    return model"
   ]
  },
  {
   "cell_type": "code",
   "execution_count": null,
   "id": "1dae141d",
   "metadata": {},
   "outputs": [],
   "source": [
    "model = TestNet(input_shape=(33,33,1))\n",
    "model.summary()"
   ]
  },
  {
   "cell_type": "code",
   "execution_count": null,
   "id": "c42d800c",
   "metadata": {},
   "outputs": [],
   "source": [
    "from tensorflow.keras.utils import plot_model     ##模型结构图\n",
    "plot_model(model, 'd:\\\\h5\\\\model_3d.png')"
   ]
  },
  {
   "cell_type": "code",
   "execution_count": null,
   "id": "70053d27",
   "metadata": {},
   "outputs": [],
   "source": [
    "plot_model(model, 'd:\\\\h5\\\\model_3d.png',show_shapes=True)"
   ]
  },
  {
   "cell_type": "code",
   "execution_count": null,
   "id": "a2f7ad69",
   "metadata": {},
   "outputs": [],
   "source": [
    "from keras import backend as K\n",
    "def f1(y_true, y_pred):\n",
    "    def recall(y_true, y_pred):\n",
    "        \"\"\"Recall metric.\n",
    "\n",
    "        Only computes a batch-wise average of recall.\n",
    "\n",
    "        Computes the recall, a metric for multi-label classification of\n",
    "        how many relevant items are selected.\n",
    "        \"\"\"\n",
    "        true_positives = K.sum(K.round(K.clip(y_true * y_pred, 0, 1)))\n",
    "        possible_positives = K.sum(K.round(K.clip(y_true, 0, 1)))\n",
    "        recall = true_positives / (possible_positives + K.epsilon())\n",
    "        return recall\n",
    "\n",
    "    def precision(y_true, y_pred):\n",
    "        \"\"\"Precision metric.\n",
    "\n",
    "        Only computes a batch-wise average of precision.\n",
    "\n",
    "        Computes the precision, a metric for multi-label classification of\n",
    "        how many selected items are relevant.\n",
    "        \"\"\"\n",
    "        true_positives = K.sum(K.round(K.clip(y_true * y_pred, 0, 1)))\n",
    "        predicted_positives = K.sum(K.round(K.clip(y_pred, 0, 1)))\n",
    "        precision = true_positives / (predicted_positives + K.epsilon())\n",
    "        return precision\n",
    "    precision = precision(y_true, y_pred)\n",
    "    recall = recall(y_true, y_pred)\n",
    "    return 2*((precision*recall)/(precision+recall+K.epsilon()))"
   ]
  },
  {
   "cell_type": "code",
   "execution_count": null,
   "id": "d36f25fa",
   "metadata": {},
   "outputs": [],
   "source": [
    "model.compile(loss='categorical_crossentropy',\n",
    "              optimizer=keras.optimizers.adam_v2.Adam(lr=1e-5),#\n",
    "              metrics=['acc']\n",
    "             )"
   ]
  },
  {
   "cell_type": "code",
   "execution_count": null,
   "id": "d9d6b6d4",
   "metadata": {},
   "outputs": [],
   "source": [
    "his = model.fit(X_train,y_train,epochs=1,batch_size=64)"
   ]
  },
  {
   "cell_type": "code",
   "execution_count": null,
   "id": "3d6be6b2",
   "metadata": {},
   "outputs": [],
   "source": [
    "test_loss,test_acc= model.evaluate(X_test,y_test)\n",
    "print('test_acc:',test_acc)"
   ]
  },
  {
   "cell_type": "code",
   "execution_count": null,
   "id": "5de0115f",
   "metadata": {},
   "outputs": [],
   "source": [
    "predict = model.predict(X_test)\n",
    "predict=np.argmax(predict,axis=1)"
   ]
  },
  {
   "cell_type": "code",
   "execution_count": null,
   "id": "ee1b1dd8",
   "metadata": {},
   "outputs": [],
   "source": [
    "y_test2=np.argmax(y_test,axis=1)"
   ]
  },
  {
   "cell_type": "code",
   "execution_count": null,
   "id": "67b5c216",
   "metadata": {},
   "outputs": [],
   "source": [
    "from sklearn.metrics import classification_report\n",
    "print('查准率、查全率、F1值：')\n",
    "print(classification_report(y_test2,predict,target_names=None))"
   ]
  },
  {
   "cell_type": "code",
   "execution_count": null,
   "id": "891621ea",
   "metadata": {},
   "outputs": [],
   "source": [
    "model.save_weights('d:/h5/fmap_cf_weights.h5')"
   ]
  }
 ],
 "metadata": {
  "kernelspec": {
   "display_name": "Python 3",
   "language": "python",
   "name": "python3"
  },
  "language_info": {
   "codemirror_mode": {
    "name": "ipython",
    "version": 3
   },
   "file_extension": ".py",
   "mimetype": "text/x-python",
   "name": "python",
   "nbconvert_exporter": "python",
   "pygments_lexer": "ipython3",
   "version": "3.6.13"
  }
 },
 "nbformat": 4,
 "nbformat_minor": 5
}
