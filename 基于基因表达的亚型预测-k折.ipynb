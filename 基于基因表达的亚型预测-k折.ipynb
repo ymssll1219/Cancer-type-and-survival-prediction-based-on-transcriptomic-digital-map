{
 "cells": [
  {
   "cell_type": "code",
   "execution_count": null,
   "id": "fe208bf4",
   "metadata": {},
   "outputs": [],
   "source": [
    "import h5py\n",
    "import numpy as np\n",
    "from sklearn.model_selection import KFold\n",
    "fh5 = h5py.File('E:/data/fmap2m.h5','r')\n",
    "img = fh5['map']\n",
    "img = np.array(img)\n",
    "lab = fh5['lab']\n",
    "lab = np.array(lab)"
   ]
  },
  {
   "cell_type": "code",
   "execution_count": null,
   "id": "cd20749a",
   "metadata": {},
   "outputs": [],
   "source": [
    "img = img.reshape(1143, 32, 32, 1)"
   ]
  },
  {
   "cell_type": "code",
   "execution_count": null,
   "id": "75c96587",
   "metadata": {},
   "outputs": [],
   "source": [
    "lab = lab[0:1143]"
   ]
  },
  {
   "cell_type": "code",
   "execution_count": null,
   "id": "7634131c",
   "metadata": {},
   "outputs": [],
   "source": [
    "from keras.utils import to_categorical\n",
    "train_labels = to_categorical(lab)\n",
    "train_labels.shape"
   ]
  },
  {
   "cell_type": "code",
   "execution_count": null,
   "id": "89b8161d",
   "metadata": {},
   "outputs": [],
   "source": [
    "from sklearn.model_selection import train_test_split\n",
    "X_train,X_test,y_train,y_test=train_test_split(img,lab,test_size=0.2,random_state=1)"
   ]
  },
  {
   "cell_type": "code",
   "execution_count": null,
   "id": "7f347338",
   "metadata": {},
   "outputs": [],
   "source": [
    "from keras import models\n",
    "from keras import layers\n",
    "from keras.models import Sequential,Input\n",
    "from keras import optimizers\n",
    "import keras\n",
    "from keras.layers import Conv2D,MaxPooling2D,Dropout,BatchNormalization,Flatten,Dense,Lambda,Multiply,AveragePooling2D,Activation\n",
    "from keras.models import Model"
   ]
  },
  {
   "cell_type": "code",
   "execution_count": null,
   "id": "d3c9e609",
   "metadata": {},
   "outputs": [],
   "source": [
    "callbacks_list = [\n",
    "    keras.callbacks.ReduceLROnPlateau(monitor='val_loss',factor=0.5,patience=10),\n",
    "    keras.callbacks.ModelCheckpoint(filepath='e:/data/rmap.h5',monitor='val_loss',save_best_only=True)   ##保存最佳模型\n",
    "    ]"
   ]
  },
  {
   "cell_type": "code",
   "execution_count": null,
   "id": "f7df0996",
   "metadata": {},
   "outputs": [],
   "source": [
    "def Conv2d_BN(x, nb_filter,kernel_size, padding='valid',strides=(1,1),data_format='channels_last',dilation_rate=(1,1),\n",
    "              activation='relu',name=None):\n",
    "    if name is not None:\n",
    "        bn_name = name + '_bn'\n",
    "        conv_name = name + '_conv'\n",
    "    else:\n",
    "        bn_name = None\n",
    "        conv_name = None\n",
    "\n",
    "    x = Conv2D(nb_filter,kernel_size,padding=padding,strides=strides,data_format='channels_last',activation='relu',\n",
    "               dilation_rate=dilation_rate,name=conv_name)(x)\n",
    "    x = BatchNormalization(name=bn_name)(x)\n",
    "    \n",
    "    return x"
   ]
  },
  {
   "cell_type": "code",
   "execution_count": null,
   "id": "fbc6c6d2",
   "metadata": {},
   "outputs": [],
   "source": [
    "def InceptionB(x,nb_filter):\n",
    "    branch_1x1_t = Conv2d_BN(x,nb_filter,(1,1), padding='same',strides=(1,1),data_format='channels_last',activation='relu',name=None)\n",
    "    branch_1x1_s = Conv2d_BN(x,nb_filter,(1,1), padding='same',strides=(1,1),data_format='channels_last',activation='relu',name=None)\n",
    "    branch_1x1_s = Activation('sigmoid')(branch_1x1_s)\n",
    "    branch_1x1_c = keras.layers.Multiply()([branch_1x1_t,branch_1x1_s])\n",
    "    \n",
    "    branch_3x3_t = Conv2d_BN(x,nb_filter,(3,3), padding='same',strides=(1,1),data_format='channels_last',activation='relu',name=None)\n",
    "    branch_3x3_s = Conv2d_BN(x,nb_filter,(3,3), padding='same',strides=(1,1),data_format='channels_last',activation='relu',name=None)\n",
    "    branch_3x3_s = Activation('sigmoid')(branch_3x3_s)\n",
    "    branch_3x3_c = keras.layers.Multiply()([branch_3x3_t,branch_3x3_s])\n",
    "       \n",
    "    branch_5x5_t = Conv2d_BN(x,nb_filter,(5,5), padding='same',strides=(1,1),data_format='channels_last',activation='relu',name=None)\n",
    "    branch_5x5_s = Conv2d_BN(x,nb_filter,(5,5), padding='same',strides=(1,1),data_format='channels_last',activation='relu',name=None)\n",
    "    branch_5x5_s = Activation('sigmoid')(branch_5x5_s)\n",
    "    branch_5x5_c = keras.layers.Multiply()([branch_5x5_t,branch_5x5_s])\n",
    "    \n",
    "\n",
    "    x = keras.layers.Concatenate(axis=3)([branch_1x1_c,branch_3x3_c,branch_5x5_c]) #\n",
    "\n",
    "    return x"
   ]
  },
  {
   "cell_type": "code",
   "execution_count": null,
   "id": "6aa55e72",
   "metadata": {},
   "outputs": [],
   "source": [
    "def InceptionC(x,nb_filter):\n",
    "    branch_1x1_t = Conv2d_BN(x,nb_filter,(1,1), padding='same',strides=(1,1),data_format='channels_last',activation='relu',name=None)\n",
    "    branch_1x1_s = Conv2d_BN(x,nb_filter,(1,1), padding='same',strides=(1,1),data_format='channels_last',activation='relu',name=None)\n",
    "    branch_1x1_s = Activation('sigmoid')(branch_1x1_s)\n",
    "    branch_1x1_c = keras.layers.Multiply()([branch_1x1_t,branch_1x1_s])\n",
    "    \n",
    "    branch_3x3_t = Conv2d_BN(x,nb_filter,(3,3), padding='same',strides=(1,1),data_format='channels_last',activation='relu',name=None)\n",
    "    branch_3x3_s = Conv2d_BN(x,nb_filter,(3,3), padding='same',strides=(1,1),data_format='channels_last',activation='relu',name=None)\n",
    "    branch_3x3_s = Activation('sigmoid')(branch_3x3_s)\n",
    "    branch_3x3_c = keras.layers.Multiply()([branch_3x3_t,branch_3x3_s])\n",
    "    \n",
    "\n",
    "    x = keras.layers.Concatenate(axis=3)([branch_1x1_c,branch_3x3_c]) #branch_1x1_c,\n",
    "\n",
    "    return x"
   ]
  },
  {
   "cell_type": "code",
   "execution_count": null,
   "id": "a5bd0c53",
   "metadata": {},
   "outputs": [],
   "source": [
    "def TestNet(input_shape=None):\n",
    "    inpt = Input(shape=input_shape)\n",
    "\n",
    "    x = Conv2d_BN(inpt,32,(3,3),strides=(1,1),padding='same')\n",
    "    x = InceptionB(x,32)\n",
    "    x = MaxPooling2D(pool_size=(2,2),strides=(2,2),padding='same')(x)\n",
    "    x = InceptionB(x,32)\n",
    "    x = MaxPooling2D(pool_size=(2,2),strides=(2,2),padding='same')(x)\n",
    "    x = InceptionC(x,64)\n",
    "    x = MaxPooling2D(pool_size=(2,2),strides=(2,2),padding='same')(x)\n",
    "    x = InceptionC(x,64)\n",
    "    x = AveragePooling2D(pool_size=(2,2),strides=(2,2),padding='same')(x)\n",
    "    x = Dropout(0.3)(x)\n",
    "    x = Flatten()(x)\n",
    "    x = Dense(128,activation='relu')(x)\n",
    "    x = Dropout(0.3)(x)\n",
    "    x = Dense(1,activation='sigmoid')(x)\n",
    "    model = Model(inpt,x,name='inception')\n",
    "    \n",
    " \n",
    "    return model"
   ]
  },
  {
   "cell_type": "code",
   "execution_count": null,
   "id": "1dbc0b61",
   "metadata": {},
   "outputs": [],
   "source": [
    "model = TestNet(input_shape=(32,32,1))\n",
    "model.summary()"
   ]
  },
  {
   "cell_type": "code",
   "execution_count": null,
   "id": "df999864",
   "metadata": {},
   "outputs": [],
   "source": [
    "from tensorflow.keras.utils import plot_model    \n",
    "plot_model(model, 'd:\\\\h5\\\\model_3d.png')"
   ]
  },
  {
   "cell_type": "code",
   "execution_count": null,
   "id": "694cebf1",
   "metadata": {},
   "outputs": [],
   "source": [
    "plot_model(model, 'd:\\\\h5\\\\model_3d.png',show_shapes=True)"
   ]
  },
  {
   "cell_type": "code",
   "execution_count": null,
   "id": "20a6b852",
   "metadata": {},
   "outputs": [],
   "source": [
    "model.compile(loss='binary_crossentropy',\n",
    "              optimizer=optimizers.Adam(lr=1e-3),#\n",
    "              metrics=['acc'] \n",
    "             )"
   ]
  },
  {
   "cell_type": "code",
   "execution_count": null,
   "id": "aea758cd",
   "metadata": {},
   "outputs": [],
   "source": [
    "from sklearn.model_selection import StratifiedKFold\n",
    "kfold = StratifiedKFold(n_splits=5, shuffle=True, random_state=7)\n",
    "cvscores = []\n",
    "for train, test in kfold.split(img, lab):\n",
    "    model = TestNet(input_shape=(32,32,1))\n",
    "    model.compile(loss='binary_crossentropy',\n",
    "              optimizer=optimizers.Adam(lr=1e-3),#\n",
    "              metrics=['acc'])\n",
    "    model.fit(img[train], lab[train], epochs=30, batch_size=32, verbose=0)\n",
    "    scores = model.evaluate(img[test], lab[test], verbose=0)\n",
    "    print(\"%s: %.2f%%\" % (model.metrics_names[1], scores[1]*100))\n",
    "    cvscores.append(scores[1] * 100)"
   ]
  },
  {
   "cell_type": "code",
   "execution_count": null,
   "id": "93d1b017",
   "metadata": {},
   "outputs": [],
   "source": [
    "print(\"%.2f%% (+/- %.2f%%)\" % (np.mean(cvscores), np.std(cvscores)))"
   ]
  }
 ],
 "metadata": {
  "kernelspec": {
   "display_name": "Python 3",
   "language": "python",
   "name": "python3"
  },
  "language_info": {
   "codemirror_mode": {
    "name": "ipython",
    "version": 3
   },
   "file_extension": ".py",
   "mimetype": "text/x-python",
   "name": "python",
   "nbconvert_exporter": "python",
   "pygments_lexer": "ipython3",
   "version": "3.6.13"
  }
 },
 "nbformat": 4,
 "nbformat_minor": 5
}
