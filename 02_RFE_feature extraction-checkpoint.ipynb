{
 "cells": [
  {
   "cell_type": "code",
   "execution_count": 1,
   "metadata": {},
   "outputs": [],
   "source": [
    "import h5py\n",
    "import numpy as np\n",
    "import pandas as pd\n",
    "\n",
    "from tqdm import trange"
   ]
  },
  {
   "cell_type": "code",
   "execution_count": 2,
   "metadata": {},
   "outputs": [],
   "source": [
    "from sklearn.feature_selection import RFE\n",
    "#from sklearn.linear_model import LinearRegression"
   ]
  },
  {
   "cell_type": "code",
   "execution_count": 3,
   "metadata": {},
   "outputs": [
    {
     "name": "stdout",
     "output_type": "stream",
     "text": [
      "(111, 21126)\n",
      "(111,)\n"
     ]
    }
   ],
   "source": [
    "data = h5py.File('02_Sample_Data.h5','r')\n",
    "feat = data['feat']\n",
    "x = np.array(feat)\n",
    "print(x.shape)\n",
    "lab = data['lab']\n",
    "y = np.array(lab)\n",
    "print(y.shape)"
   ]
  },
  {
   "cell_type": "code",
   "execution_count": 4,
   "metadata": {},
   "outputs": [
    {
     "name": "stdout",
     "output_type": "stream",
     "text": [
      "(21126, 1)\n"
     ]
    }
   ],
   "source": [
    "patho = r'02_prefeat_cf_name2.txt'\n",
    "data0 = pd.read_table(patho,header=None,delim_whitespace=True)#encoding='gb2312',index_col=0\n",
    "print(data0.shape)\n",
    "names = data0[0]\n",
    "names = names.values.tolist()"
   ]
  },
  {
   "cell_type": "code",
   "execution_count": 5,
   "metadata": {},
   "outputs": [
    {
     "name": "stdout",
     "output_type": "stream",
     "text": [
      "21126\n"
     ]
    }
   ],
   "source": [
    "print(len(names))"
   ]
  },
  {
   "cell_type": "code",
   "execution_count": 6,
   "metadata": {},
   "outputs": [],
   "source": [
    "from sklearn.ensemble import GradientBoostingClassifier"
   ]
  },
  {
   "cell_type": "code",
   "execution_count": 7,
   "metadata": {},
   "outputs": [],
   "source": [
    "gbdt_clf = GradientBoostingClassifier(n_estimators=30)"
   ]
  },
  {
   "cell_type": "code",
   "execution_count": 8,
   "metadata": {},
   "outputs": [],
   "source": [
    "#rfe = RFE(gbdt_clf, n_features_to_select=33*33, step=0.1)"
   ]
  },
  {
   "cell_type": "code",
   "execution_count": 9,
   "metadata": {},
   "outputs": [],
   "source": [
    "from sklearn.neighbors import KNeighborsClassifier\n",
    "knn = KNeighborsClassifier(n_neighbors = 50)"
   ]
  },
  {
   "cell_type": "code",
   "execution_count": 10,
   "metadata": {},
   "outputs": [
    {
     "name": "stderr",
     "output_type": "stream",
     "text": [
      "Training RFE (21126/21126): 100%|██████████| 21126/21126 [42:49:08<00:00,  7.30s/it]   \n"
     ]
    }
   ],
   "source": [
    "\n",
    "n_features = x.shape[1]  # 指定特征数量\n",
    "rfe = RFE(knn, n_features_to_select=n_features)\n",
    "with trange(n_features) as t:  # 创建进度条\n",
    "    for i in t:\n",
    "        rfe.fit(x, y)  # 训练模型\n",
    "        t.set_description(f\"Training RFE ({i+1}/{n_features})\")  # 显示进度和其他信息\n"
   ]
  },
  {
   "cell_type": "code",
   "execution_count": 11,
   "metadata": {},
   "outputs": [],
   "source": [
    "ss = (sorted(zip(map(lambda feature: round(feature, 4), rfe.ranking_), names)))"
   ]
  },
  {
   "cell_type": "code",
   "execution_count": 12,
   "metadata": {},
   "outputs": [
    {
     "data": {
      "text/plain": [
       "21126"
      ]
     },
     "execution_count": 12,
     "metadata": {},
     "output_type": "execute_result"
    }
   ],
   "source": [
    "len(ss)"
   ]
  },
  {
   "cell_type": "code",
   "execution_count": 13,
   "metadata": {},
   "outputs": [
    {
     "data": {
      "text/plain": [
       "'AC002059.1'"
      ]
     },
     "execution_count": 13,
     "metadata": {},
     "output_type": "execute_result"
    }
   ],
   "source": [
    "sd = str(ss[122][1])\n",
    "sd "
   ]
  },
  {
   "cell_type": "code",
   "execution_count": 14,
   "metadata": {},
   "outputs": [],
   "source": [
    "new1 = np.zeros((len(lab),15*15))\n",
    "new2 = np.zeros((len(lab),33*33))\n",
    "new3 = np.zeros((len(lab),61*61))\n",
    "new4 = np.zeros((len(lab),99*99))"
   ]
  },
  {
   "cell_type": "code",
   "execution_count": 20,
   "metadata": {},
   "outputs": [
    {
     "data": {
      "text/plain": [
       "(225,)"
      ]
     },
     "execution_count": 20,
     "metadata": {},
     "output_type": "execute_result"
    }
   ],
   "source": [
    "new1[0,:].shape"
   ]
  },
  {
   "cell_type": "code",
   "execution_count": 19,
   "metadata": {},
   "outputs": [
    {
     "name": "stderr",
     "output_type": "stream",
     "text": [
      "C:\\Users\\user\\AppData\\Local\\Temp\\ipykernel_6896\\3165988096.py:3: TqdmDeprecationWarning: This function will be removed in tqdm==5.0.0\n",
      "Please use `tqdm.std.*` instead of `tqdm._tqdm.*`\n",
      "  from tqdm._tqdm import trange\n"
     ]
    }
   ],
   "source": [
    "import time\n",
    "from tqdm import tqdm\n",
    "from tqdm._tqdm import trange"
   ]
  },
  {
   "cell_type": "code",
   "execution_count": 21,
   "metadata": {},
   "outputs": [
    {
     "name": "stderr",
     "output_type": "stream",
     "text": [
      "100%|██████████| 11074/11074 [2:24:09<00:00,  1.28it/s] \n"
     ]
    }
   ],
   "source": [
    "for n in tqdm(range(len(lab))):\n",
    "    time.sleep(0.01)\n",
    "    for i in range(225):\n",
    "        for j in range(len(ss)):\n",
    "            if names[j] == ss[i][1]:\n",
    "                new1[n,i] = x[n,j]"
   ]
  },
  {
   "cell_type": "code",
   "execution_count": 22,
   "metadata": {},
   "outputs": [
    {
     "name": "stderr",
     "output_type": "stream",
     "text": [
      "100%|██████████| 11074/11074 [11:26:28<00:00,  3.72s/it]  \n"
     ]
    }
   ],
   "source": [
    "for n in tqdm(range(len(lab))):\n",
    "    time.sleep(0.01)\n",
    "    for i in range(1089):\n",
    "        for j in range(len(ss)):\n",
    "            if names[j] == ss[i][1]:\n",
    "                new2[n,i] = x[n,j]"
   ]
  },
  {
   "cell_type": "code",
   "execution_count": 23,
   "metadata": {},
   "outputs": [
    {
     "name": "stderr",
     "output_type": "stream",
     "text": [
      "100%|██████████| 11074/11074 [39:08:25<00:00, 12.72s/it]  \n"
     ]
    }
   ],
   "source": [
    "for n in tqdm(range(len(lab))):\n",
    "    time.sleep(0.01)\n",
    "    for i in range(61*61):\n",
    "        for j in range(len(ss)):\n",
    "            if names[j] == ss[i][1]:\n",
    "                new3[n,i] = x[n,j]"
   ]
  },
  {
   "cell_type": "code",
   "execution_count": 24,
   "metadata": {},
   "outputs": [
    {
     "name": "stderr",
     "output_type": "stream",
     "text": [
      "100%|██████████| 11074/11074 [103:19:25<00:00, 33.59s/it]  \n"
     ]
    }
   ],
   "source": [
    "for n in tqdm(range(len(lab))):\n",
    "    time.sleep(0.01)\n",
    "    for i in range(99*99):\n",
    "        for j in range(len(ss)):\n",
    "            if names[j] == ss[i][1]:\n",
    "                new4[n,i] = x[n,j]"
   ]
  },
  {
   "cell_type": "code",
   "execution_count": 25,
   "metadata": {},
   "outputs": [],
   "source": [
    "newn1 = []\n",
    "newn2 = []\n",
    "newn3 = []\n",
    "newn4 = []"
   ]
  },
  {
   "cell_type": "code",
   "execution_count": 26,
   "metadata": {},
   "outputs": [
    {
     "name": "stderr",
     "output_type": "stream",
     "text": [
      "100%|██████████| 225/225 [00:03<00:00, 60.03it/s]\n"
     ]
    }
   ],
   "source": [
    "for i in tqdm(range(225)):\n",
    "    time.sleep(0.01)\n",
    "    newn1.append(str(ss[i][1]))"
   ]
  },
  {
   "cell_type": "code",
   "execution_count": 27,
   "metadata": {},
   "outputs": [
    {
     "name": "stderr",
     "output_type": "stream",
     "text": [
      "100%|██████████| 1089/1089 [00:18<00:00, 59.44it/s]\n"
     ]
    }
   ],
   "source": [
    "for i in tqdm(range(1089)):\n",
    "    time.sleep(0.01)\n",
    "    newn2.append(str(ss[i][1]))"
   ]
  },
  {
   "cell_type": "code",
   "execution_count": 28,
   "metadata": {},
   "outputs": [
    {
     "name": "stderr",
     "output_type": "stream",
     "text": [
      "100%|██████████| 3721/3721 [01:03<00:00, 58.57it/s]\n"
     ]
    }
   ],
   "source": [
    "for i in tqdm(range(61*61)):\n",
    "    time.sleep(0.01)\n",
    "    newn3.append(str(ss[i][1]))"
   ]
  },
  {
   "cell_type": "code",
   "execution_count": 29,
   "metadata": {},
   "outputs": [
    {
     "name": "stderr",
     "output_type": "stream",
     "text": [
      "100%|██████████| 9801/9801 [02:46<00:00, 58.80it/s]\n"
     ]
    }
   ],
   "source": [
    "for i in tqdm(range(99*99)):\n",
    "    time.sleep(0.01)\n",
    "    newn4.append(str(ss[i][1]))"
   ]
  },
  {
   "cell_type": "code",
   "execution_count": 30,
   "metadata": {},
   "outputs": [],
   "source": [
    "import h5py \n",
    "f = h5py.File('d:/h5/newfeatknn_all.h5', 'w')\n",
    "f.create_dataset('feat1', data=new1)\n",
    "f.create_dataset('feat2', data=new2)\n",
    "f.create_dataset('feat3', data=new3)\n",
    "f.create_dataset('feat4', data=new4)\n",
    "f.create_dataset('lab', data=y)\n",
    "\n",
    "f.close()"
   ]
  },
  {
   "cell_type": "code",
   "execution_count": 32,
   "metadata": {},
   "outputs": [],
   "source": [
    "##以上\n",
    "import re\n",
    "file32 = open('d:/h5/newnameknn_new1.txt', 'w')\n",
    "\n",
    "for i in range(len(newn1)):\n",
    "    s = (re.sub(r\"['{ },]*\", '', str(newn1[i])) + '\\n').replace(':', ',')\n",
    "    file32.write(s)\n",
    "file32.close()\n"
   ]
  },
  {
   "cell_type": "code",
   "execution_count": 33,
   "metadata": {},
   "outputs": [],
   "source": [
    "file32 = open('d:/h5/newnameknn_new2.txt', 'w')\n",
    "\n",
    "for i in range(len(newn2)):\n",
    "    s = (re.sub(r\"['{ },]*\", '', str(newn2[i])) + '\\n').replace(':', ',')\n",
    "    file32.write(s)\n",
    "file32.close()"
   ]
  },
  {
   "cell_type": "code",
   "execution_count": 34,
   "metadata": {},
   "outputs": [],
   "source": [
    "file32 = open('d:/h5/newnameknn_new3.txt', 'w')\n",
    "\n",
    "for i in range(len(newn3)):\n",
    "    s = (re.sub(r\"['{ },]*\", '', str(newn3[i])) + '\\n').replace(':', ',')\n",
    "    file32.write(s)\n",
    "file32.close()"
   ]
  },
  {
   "cell_type": "code",
   "execution_count": 35,
   "metadata": {},
   "outputs": [],
   "source": [
    "file32 = open('d:/h5/newnameknn_new4.txt', 'w')\n",
    "\n",
    "for i in range(len(newn4)):\n",
    "    s = (re.sub(r\"['{ },]*\", '', str(newn4[i])) + '\\n').replace(':', ',')\n",
    "    file32.write(s)\n",
    "file32.close()"
   ]
  },
  {
   "cell_type": "code",
   "execution_count": null,
   "metadata": {},
   "outputs": [],
   "source": []
  }
 ],
 "metadata": {
  "kernelspec": {
   "display_name": "Python 3",
   "language": "python",
   "name": "python3"
  },
  "language_info": {
   "codemirror_mode": {
    "name": "ipython",
    "version": 3
   },
   "file_extension": ".py",
   "mimetype": "text/x-python",
   "name": "python",
   "nbconvert_exporter": "python",
   "pygments_lexer": "ipython3",
   "version": "3.6.10"
  }
 },
 "nbformat": 4,
 "nbformat_minor": 4
}
